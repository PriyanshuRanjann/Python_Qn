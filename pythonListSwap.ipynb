{
  "nbformat": 4,
  "nbformat_minor": 0,
  "metadata": {
    "colab": {
      "provenance": [],
      "authorship_tag": "ABX9TyOgF6nqqt2SwQl5+8A9xjty",
      "include_colab_link": true
    },
    "kernelspec": {
      "name": "python3",
      "display_name": "Python 3"
    },
    "language_info": {
      "name": "python"
    }
  },
  "cells": [
    {
      "cell_type": "markdown",
      "metadata": {
        "id": "view-in-github",
        "colab_type": "text"
      },
      "source": [
        "<a href=\"https://colab.research.google.com/github/PriyanshuRanjann/Python_Qn/blob/main/pythonListSwap.ipynb\" target=\"_parent\"><img src=\"https://colab.research.google.com/assets/colab-badge.svg\" alt=\"Open In Colab\"/></a>"
      ]
    },
    {
      "cell_type": "code",
      "execution_count": 11,
      "metadata": {
        "colab": {
          "base_uri": "https://localhost:8080/"
        },
        "id": "I9YYC_LbcDRg",
        "outputId": "d6ddd6fb-848d-40e6-ff8b-4130a034df04"
      },
      "outputs": [
        {
          "output_type": "stream",
          "name": "stdout",
          "text": [
            "elements3\n",
            "2\n",
            "4\n",
            "6\n",
            "list before swap: [2, 4, 6]\n",
            "enter position 1 to be swapped:2\n",
            "enter position 2 to be swapped:2\n",
            "list after swap [2, 4, 6]\n"
          ]
        }
      ],
      "source": [
        "lst=[]\n",
        "n=int(input(\"elements\"))\n",
        "for i in range (n):\n",
        "  ele=int(input(\"\"))\n",
        "  lst.append(ele)\n",
        "print(\"list before swap:\",lst)\n",
        "pos1=int(input(\"enter position 1 to be swapped:\"))\n",
        "pos2=int(input(\"enter position 2 to be swapped:\"))\n",
        "\n",
        "def numSwap(lst,pos1,pos2):\n",
        "  lst[pos1],lst[pos2]=lst[pos2],lst[pos1]\n",
        "  return lst\n",
        "print(\"list after swap:\",numSwap(lst,pos1,pos2))"
      ]
    },
    {
      "cell_type": "code",
      "source": [
        "3312"
      ],
      "metadata": {
        "id": "mv4yq_VCc5Ub"
      },
      "execution_count": null,
      "outputs": []
    }
  ]
}