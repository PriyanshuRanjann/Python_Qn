{
  "nbformat": 4,
  "nbformat_minor": 0,
  "metadata": {
    "colab": {
      "provenance": [],
      "authorship_tag": "ABX9TyOD8KlJVm0xxYRakI1HThL/",
      "include_colab_link": true
    },
    "kernelspec": {
      "name": "python3",
      "display_name": "Python 3"
    },
    "language_info": {
      "name": "python"
    }
  },
  "cells": [
    {
      "cell_type": "markdown",
      "metadata": {
        "id": "view-in-github",
        "colab_type": "text"
      },
      "source": [
        "<a href=\"https://colab.research.google.com/github/PriyanshuRanjann/Python_Qn/blob/main/Fibonacci_series.ipynb\" target=\"_parent\"><img src=\"https://colab.research.google.com/assets/colab-badge.svg\" alt=\"Open In Colab\"/></a>"
      ]
    },
    {
      "cell_type": "code",
      "execution_count": 19,
      "metadata": {
        "colab": {
          "base_uri": "https://localhost:8080/"
        },
        "id": "2EcV-6HPgZFB",
        "outputId": "d5e2045a-f6c3-4bed-99d9-585acd851c13"
      },
      "outputs": [
        {
          "output_type": "stream",
          "name": "stdout",
          "text": [
            "enter no. of places of fibonacci series:10\n",
            "Fibonacci Series of 10 element is  [0, 1, 1, 2, 3, 5, 8, 13, 21, 34]\n"
          ]
        }
      ],
      "source": [
        "#FIBONACCI SERIES\n",
        "def fibonacci(n):\n",
        "    lst=[0, 1]\n",
        "    for i in range(2,n):\n",
        "        next=lst[-1]+lst[-2]\n",
        "        lst.append(next)\n",
        "    return lst\n",
        "n=int(input(\"enter no. of places of fibonacci series:\"))\n",
        "print(\"Fibonacci Series of\", n, \"element is \",fibonacci(n))"
      ]
    },
    {
      "cell_type": "code",
      "source": [],
      "metadata": {
        "id": "gV-4FHCckiyD"
      },
      "execution_count": 17,
      "outputs": []
    }
  ]
}