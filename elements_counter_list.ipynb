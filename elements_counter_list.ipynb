{
  "nbformat": 4,
  "nbformat_minor": 0,
  "metadata": {
    "colab": {
      "provenance": [],
      "authorship_tag": "ABX9TyP9Vr+naJrmvzWxRnasGWnP",
      "include_colab_link": true
    },
    "kernelspec": {
      "name": "python3",
      "display_name": "Python 3"
    },
    "language_info": {
      "name": "python"
    }
  },
  "cells": [
    {
      "cell_type": "markdown",
      "metadata": {
        "id": "view-in-github",
        "colab_type": "text"
      },
      "source": [
        "<a href=\"https://colab.research.google.com/github/PriyanshuRanjann/Python_Qn/blob/main/elements_counter_list.ipynb\" target=\"_parent\"><img src=\"https://colab.research.google.com/assets/colab-badge.svg\" alt=\"Open In Colab\"/></a>"
      ]
    },
    {
      "cell_type": "code",
      "execution_count": 1,
      "metadata": {
        "id": "8DSaLqf0JZB9"
      },
      "outputs": [],
      "source": [
        "#steps to find length of a list in python\n"
      ]
    },
    {
      "cell_type": "code",
      "source": [
        "#step1--using len method"
      ],
      "metadata": {
        "id": "h8cVzP_NJmCL"
      },
      "execution_count": 2,
      "outputs": []
    },
    {
      "cell_type": "code",
      "source": [
        "n=int(input(\"enter a no. of elements in list:\"))\n",
        "lst=[]\n",
        "for i in range (n):\n",
        "  x=input(\"\")\n",
        "  lst.append(x)\n",
        "print(lst)\n",
        "print(\"Size of list is\",len(lst))"
      ],
      "metadata": {
        "colab": {
          "base_uri": "https://localhost:8080/"
        },
        "id": "TVCKfRnuJptk",
        "outputId": "c0e2c8ef-7291-4b33-c7f4-3485e6e0b86a"
      },
      "execution_count": 7,
      "outputs": [
        {
          "output_type": "stream",
          "name": "stdout",
          "text": [
            "enter a no. of elements in list:2\n",
            "23\n",
            "12\n",
            "['23', '12']\n",
            "Size of list is 2\n"
          ]
        }
      ]
    },
    {
      "cell_type": "code",
      "source": [
        "#step2--using naive method\n",
        "\n",
        "counter=0\n",
        "for i in lst:\n",
        "  counter=counter+1\n",
        "print(counter)"
      ],
      "metadata": {
        "colab": {
          "base_uri": "https://localhost:8080/"
        },
        "id": "LS5vHQNiKHSY",
        "outputId": "c191c473-d2ba-4fa5-89aa-fedcf6e5e19f"
      },
      "execution_count": 9,
      "outputs": [
        {
          "output_type": "stream",
          "name": "stdout",
          "text": [
            "2\n"
          ]
        }
      ]
    },
    {
      "cell_type": "code",
      "source": [
        "#using sum method\n",
        "print(sum(1 for i in lst))"
      ],
      "metadata": {
        "colab": {
          "base_uri": "https://localhost:8080/"
        },
        "id": "ZIH2Q9gtKxCR",
        "outputId": "cb29abd5-e3be-4313-a0ed-b43e616dbd35"
      },
      "execution_count": 10,
      "outputs": [
        {
          "output_type": "stream",
          "name": "stdout",
          "text": [
            "2\n"
          ]
        }
      ]
    },
    {
      "cell_type": "code",
      "source": [],
      "metadata": {
        "id": "MMOEs2AQLm0w"
      },
      "execution_count": null,
      "outputs": []
    }
  ]
}