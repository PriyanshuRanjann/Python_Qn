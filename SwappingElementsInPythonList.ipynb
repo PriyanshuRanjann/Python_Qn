{
  "nbformat": 4,
  "nbformat_minor": 0,
  "metadata": {
    "colab": {
      "provenance": [],
      "authorship_tag": "ABX9TyNTs/sipV461nvasR7OU0M/",
      "include_colab_link": true
    },
    "kernelspec": {
      "name": "python3",
      "display_name": "Python 3"
    },
    "language_info": {
      "name": "python"
    }
  },
  "cells": [
    {
      "cell_type": "markdown",
      "metadata": {
        "id": "view-in-github",
        "colab_type": "text"
      },
      "source": [
        "<a href=\"https://colab.research.google.com/github/PriyanshuRanjann/Python_Qn/blob/main/SwappingElementsInPythonList.ipynb\" target=\"_parent\"><img src=\"https://colab.research.google.com/assets/colab-badge.svg\" alt=\"Open In Colab\"/></a>"
      ]
    },
    {
      "cell_type": "code",
      "execution_count": 1,
      "metadata": {
        "id": "L1mVW-YHublV"
      },
      "outputs": [],
      "source": [
        "#Python program to interchange first and last elements in a list\n"
      ]
    },
    {
      "cell_type": "code",
      "source": [
        "\n",
        "def swap(newList):\n",
        "  y=len(newList)\n",
        "\n",
        "  x=newList[0]\n",
        "  newList[0]=newList[y-1]\n",
        "  newList[y-1]=x\n",
        "\n",
        "  return newList\n",
        "n = int(input(\"Enter number of elements : \"))\n",
        "newList=[]\n",
        "\n",
        "# iterating till the range\n",
        "for i in range(0, n):\n",
        "    ele = int(input())\n",
        "    print(\"List: \",newList.append(ele))\n",
        "\n",
        "print(\"swapped list:\",swap(newList))\n"
      ],
      "metadata": {
        "colab": {
          "base_uri": "https://localhost:8080/"
        },
        "id": "j8FJgkzwukUJ",
        "outputId": "8f2a987d-3c2b-469d-abf8-4e3278d33834"
      },
      "execution_count": 23,
      "outputs": [
        {
          "output_type": "stream",
          "name": "stdout",
          "text": [
            "Enter number of elements : 4\n",
            "34\n",
            "List:  None\n",
            "23\n",
            "List:  None\n",
            "2\n",
            "List:  None\n",
            "4\n",
            "List:  None\n",
            "swapped list: [4, 23, 2, 34]\n"
          ]
        }
      ]
    },
    {
      "cell_type": "code",
      "source": [],
      "metadata": {
        "id": "wDEkLjSCvhgi"
      },
      "execution_count": 20,
      "outputs": []
    },
    {
      "cell_type": "code",
      "source": [],
      "metadata": {
        "id": "2xyYoLi6yDjk"
      },
      "execution_count": null,
      "outputs": []
    }
  ]
}