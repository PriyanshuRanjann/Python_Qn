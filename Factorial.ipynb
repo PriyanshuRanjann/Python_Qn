{
  "nbformat": 4,
  "nbformat_minor": 0,
  "metadata": {
    "colab": {
      "provenance": [],
      "authorship_tag": "ABX9TyN4w9LcBjGYgv1YiJRmu7fC",
      "include_colab_link": true
    },
    "kernelspec": {
      "name": "python3",
      "display_name": "Python 3"
    },
    "language_info": {
      "name": "python"
    }
  },
  "cells": [
    {
      "cell_type": "markdown",
      "metadata": {
        "id": "view-in-github",
        "colab_type": "text"
      },
      "source": [
        "<a href=\"https://colab.research.google.com/github/PriyanshuRanjann/Python_Qn/blob/main/Factorial.ipynb\" target=\"_parent\"><img src=\"https://colab.research.google.com/assets/colab-badge.svg\" alt=\"Open In Colab\"/></a>"
      ]
    },
    {
      "cell_type": "code",
      "execution_count": 3,
      "metadata": {
        "colab": {
          "base_uri": "https://localhost:8080/"
        },
        "id": "PIOyO4cOl1J7",
        "outputId": "0abd7245-e710-474a-ade1-b5f7644e262f"
      },
      "outputs": [
        {
          "output_type": "stream",
          "name": "stdout",
          "text": [
            "Enter no.:6\n",
            "factorial of  6 is  720\n"
          ]
        }
      ],
      "source": [
        "#Factorial: Implement a function to calculate the factorial of a given number.\n",
        "def factorial(n):\n",
        "    if n<0:\n",
        "        return \"Factorial not defined for negative number\"\n",
        "    elif n==0 or n==1:\n",
        "        return 1\n",
        "    else:\n",
        "        result=1\n",
        "        for i in range (2,n+1):\n",
        "            result=result*i\n",
        "        return result\n",
        "n=int(input(\"Enter no.:\"))\n",
        "print(\"factorial of \",n,\"is \",factorial(n))\n",
        "\n"
      ]
    },
    {
      "cell_type": "code",
      "source": [],
      "metadata": {
        "id": "HtIbUKjVn0jJ"
      },
      "execution_count": 2,
      "outputs": []
    }
  ]
}