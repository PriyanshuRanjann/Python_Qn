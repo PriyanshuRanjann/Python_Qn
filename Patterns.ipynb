{
  "nbformat": 4,
  "nbformat_minor": 0,
  "metadata": {
    "colab": {
      "provenance": [],
      "authorship_tag": "ABX9TyOQVITy8XPlwWiKkGADf8oa",
      "include_colab_link": true
    },
    "kernelspec": {
      "name": "python3",
      "display_name": "Python 3"
    },
    "language_info": {
      "name": "python"
    }
  },
  "cells": [
    {
      "cell_type": "markdown",
      "metadata": {
        "id": "view-in-github",
        "colab_type": "text"
      },
      "source": [
        "<a href=\"https://colab.research.google.com/github/PriyanshuRanjann/Python_Qn/blob/main/Patterns.ipynb\" target=\"_parent\"><img src=\"https://colab.research.google.com/assets/colab-badge.svg\" alt=\"Open In Colab\"/></a>"
      ]
    },
    {
      "cell_type": "markdown",
      "source": [
        "# **STAR PATTERN PROBLEM**"
      ],
      "metadata": {
        "id": "gCScffPyh1w_"
      }
    },
    {
      "cell_type": "code",
      "execution_count": 6,
      "metadata": {
        "colab": {
          "base_uri": "https://localhost:8080/"
        },
        "id": "-4EcCfpGhyH0",
        "outputId": "3476000f-e51b-4ac7-8bdd-1b82f52fb2dc"
      },
      "outputs": [
        {
          "output_type": "stream",
          "name": "stdout",
          "text": [
            "* * * * \n",
            "\n",
            "* * * * \n",
            "\n",
            "* * * * \n",
            "\n",
            "* * * * \n",
            "\n"
          ]
        }
      ],
      "source": [
        "for i in range (0,4):\n",
        "  for j in range (0,4):\n",
        "    print(\"*\",end=\" \")\n",
        "  print(\"\\n\")\n",
        ""
      ]
    },
    {
      "cell_type": "code",
      "source": [
        "for i in range(0,5):\n",
        "  for j in range(0,i+1):\n",
        "    print(\"*\",end=\" \")\n",
        "  print(\"\\n\")"
      ],
      "metadata": {
        "colab": {
          "base_uri": "https://localhost:8080/"
        },
        "id": "3-2bePnLiMup",
        "outputId": "c67e1c66-55e4-40e0-d446-2fb1dbc905c8"
      },
      "execution_count": 7,
      "outputs": [
        {
          "output_type": "stream",
          "name": "stdout",
          "text": [
            "* \n",
            "\n",
            "* * \n",
            "\n",
            "* * * \n",
            "\n",
            "* * * * \n",
            "\n",
            "* * * * * \n",
            "\n"
          ]
        }
      ]
    },
    {
      "cell_type": "code",
      "source": [
        "for i in range(6):\n",
        "  for j in range(1,i+1):\n",
        "    print(j,end=\" \")\n",
        "  print(\"\\n\")"
      ],
      "metadata": {
        "colab": {
          "base_uri": "https://localhost:8080/"
        },
        "id": "eDDZ2d1YmGo4",
        "outputId": "b9102318-9d1c-4e99-ade7-1b30ed656c61"
      },
      "execution_count": 12,
      "outputs": [
        {
          "output_type": "stream",
          "name": "stdout",
          "text": [
            "\n",
            "\n",
            "1 \n",
            "\n",
            "1 2 \n",
            "\n",
            "1 2 3 \n",
            "\n",
            "1 2 3 4 \n",
            "\n",
            "1 2 3 4 5 \n",
            "\n"
          ]
        }
      ]
    },
    {
      "cell_type": "code",
      "source": [
        " for i in range(6):\n",
        "  for j in range(1,i+1):\n",
        "    print(i,end=\" \")\n",
        "  print(\"\\n\")"
      ],
      "metadata": {
        "colab": {
          "base_uri": "https://localhost:8080/"
        },
        "id": "iIub7V9vnRSQ",
        "outputId": "c58b5522-d24b-488f-cfb0-2c2e1d629351"
      },
      "execution_count": 13,
      "outputs": [
        {
          "output_type": "stream",
          "name": "stdout",
          "text": [
            "\n",
            "\n",
            "1 \n",
            "\n",
            "2 2 \n",
            "\n",
            "3 3 3 \n",
            "\n",
            "4 4 4 4 \n",
            "\n",
            "5 5 5 5 5 \n",
            "\n"
          ]
        }
      ]
    },
    {
      "cell_type": "code",
      "source": [
        " for i in range(6):\n",
        "  for j in range(6-(i+1)):\n",
        "    print(\"*\",end=\" \")\n",
        "  print(\"\\n\")"
      ],
      "metadata": {
        "colab": {
          "base_uri": "https://localhost:8080/"
        },
        "id": "CF6NbtCCqHh9",
        "outputId": "4466b05e-6997-4173-9632-4d775d237b9f"
      },
      "execution_count": 23,
      "outputs": [
        {
          "output_type": "stream",
          "name": "stdout",
          "text": [
            "* * * * * \n",
            "\n",
            "* * * * \n",
            "\n",
            "* * * \n",
            "\n",
            "* * \n",
            "\n",
            "* \n",
            "\n",
            "\n",
            "\n"
          ]
        }
      ]
    },
    {
      "cell_type": "code",
      "source": [
        " for i in range(6):\n",
        "  for j in range(1,7-(i+1)):\n",
        "    print(j,end=\" \")\n",
        "  print(\"\\n\")"
      ],
      "metadata": {
        "colab": {
          "base_uri": "https://localhost:8080/"
        },
        "id": "p7QZNhp35p44",
        "outputId": "d8bd77f1-f93b-4421-cbee-caa6eac7730b"
      },
      "execution_count": 27,
      "outputs": [
        {
          "output_type": "stream",
          "name": "stdout",
          "text": [
            "1 2 3 4 5 \n",
            "\n",
            "1 2 3 4 \n",
            "\n",
            "1 2 3 \n",
            "\n",
            "1 2 \n",
            "\n",
            "1 \n",
            "\n",
            "\n",
            "\n"
          ]
        }
      ]
    },
    {
      "cell_type": "code",
      "source": [
        "for i in range(5):\n",
        "  for j in range(5-i-1):\n",
        "    print(\" \",end=\" \")\n",
        "  for j in range((2*i)+1):\n",
        "    print(\"*\",end=\" \")\n",
        "  print(\"\\n\")\n"
      ],
      "metadata": {
        "colab": {
          "base_uri": "https://localhost:8080/"
        },
        "id": "S9aB4IOq7zw7",
        "outputId": "5d8e680e-f7a2-4ac2-c397-ec6f0a26ca83"
      },
      "execution_count": 43,
      "outputs": [
        {
          "output_type": "stream",
          "name": "stdout",
          "text": [
            "        * \n",
            "\n",
            "      * * * \n",
            "\n",
            "    * * * * * \n",
            "\n",
            "  * * * * * * * \n",
            "\n",
            "* * * * * * * * * \n",
            "\n"
          ]
        }
      ]
    },
    {
      "cell_type": "code",
      "source": [
        "for i in range(5):\n",
        "  for j in range(1,i+1):\n",
        "    print(\" \",end=\" \")\n",
        "  for j in range(10-((2*i)+1)):\n",
        "    print(\"*\",end=\" \")\n",
        "  print(\"\\n\")\n"
      ],
      "metadata": {
        "colab": {
          "base_uri": "https://localhost:8080/"
        },
        "id": "DTkVcjz9A_3v",
        "outputId": "f5237968-4fa6-48fe-dbed-195f6e18edb6"
      },
      "execution_count": 49,
      "outputs": [
        {
          "output_type": "stream",
          "name": "stdout",
          "text": [
            "* * * * * * * * * \n",
            "\n",
            "  * * * * * * * \n",
            "\n",
            "    * * * * * \n",
            "\n",
            "      * * * \n",
            "\n",
            "        * \n",
            "\n"
          ]
        }
      ]
    },
    {
      "cell_type": "code",
      "source": [
        "for i in range(5):\n",
        "  for j in range(5-i-1):\n",
        "    print(\" \",end=\" \")\n",
        "  for j in range((2*i)+1):\n",
        "    print(\"*\",end=\" \")\n",
        "  print(\"\\n\")\n",
        "for i in range(5):\n",
        "  for j in range(1,i+1):\n",
        "    print(\" \",end=\" \")\n",
        "  for j in range(10-((2*i)+1)):\n",
        "    print(\"*\",end=\" \")\n",
        "  print(\"\\n\")\n"
      ],
      "metadata": {
        "colab": {
          "base_uri": "https://localhost:8080/"
        },
        "id": "4BUHX2zBCfuB",
        "outputId": "3ecf9d36-1dac-40f3-ff9a-2d6a51964bab"
      },
      "execution_count": 50,
      "outputs": [
        {
          "output_type": "stream",
          "name": "stdout",
          "text": [
            "        * \n",
            "\n",
            "      * * * \n",
            "\n",
            "    * * * * * \n",
            "\n",
            "  * * * * * * * \n",
            "\n",
            "* * * * * * * * * \n",
            "\n",
            "* * * * * * * * * \n",
            "\n",
            "  * * * * * * * \n",
            "\n",
            "    * * * * * \n",
            "\n",
            "      * * * \n",
            "\n",
            "        * \n",
            "\n"
          ]
        }
      ]
    },
    {
      "cell_type": "code",
      "source": [
        "for i in range(0,5):\n",
        "  for j in range(0,i+1):\n",
        "    print(\"*\",end=\" \")\n",
        "  print(\"\\n\")\n",
        "for i in range(5):\n",
        "  for j in range(5-(i+1)):\n",
        "   print(\"*\",end=\" \")\n",
        "  print(\"\\n\")"
      ],
      "metadata": {
        "colab": {
          "base_uri": "https://localhost:8080/"
        },
        "id": "2f0BP5pvFYGQ",
        "outputId": "bf4eeba6-98df-4697-a630-076302449d63"
      },
      "execution_count": 8,
      "outputs": [
        {
          "output_type": "stream",
          "name": "stdout",
          "text": [
            "* \n",
            "\n",
            "* * \n",
            "\n",
            "* * * \n",
            "\n",
            "* * * * \n",
            "\n",
            "* * * * * \n",
            "\n",
            "* * * * \n",
            "\n",
            "* * * \n",
            "\n",
            "* * \n",
            "\n",
            "* \n",
            "\n",
            "\n",
            "\n"
          ]
        }
      ]
    },
    {
      "cell_type": "code",
      "source": [
        "start=1\n",
        "for i in range(5):\n",
        "  if i%2==0:\n",
        "    start=1\n",
        "  else:\n",
        "    start=0\n",
        "  for j in range (i):\n",
        "    print(start,end=\" \")\n",
        "    start=1-start\n",
        "  print(\"\\n\")"
      ],
      "metadata": {
        "colab": {
          "base_uri": "https://localhost:8080/"
        },
        "id": "fx-QYpbui-W8",
        "outputId": "807091dc-d231-46a8-f1ae-93f6bb338ba2"
      },
      "execution_count": 4,
      "outputs": [
        {
          "output_type": "stream",
          "name": "stdout",
          "text": [
            "\n",
            "\n",
            "0 \n",
            "\n",
            "1 0 \n",
            "\n",
            "0 1 0 \n",
            "\n",
            "1 0 1 0 \n",
            "\n"
          ]
        }
      ]
    },
    {
      "cell_type": "code",
      "source": [
        "space = 2 * (4 - 1)\n",
        "for i in range(1, 5):\n",
        "    # Print the first set of numbers from 1 to i\n",
        "    for j in range(1, i + 1):\n",
        "        print(j, end=\"\")\n",
        "\n",
        "    # Print spaces\n",
        "    for j in range(space):\n",
        "        print(\" \", end=\"\")\n",
        "\n",
        "    # Print the second set of numbers in reverse from i to 1\n",
        "    for j in range(i, 0, -1):\n",
        "        print(j, end=\"\")\n",
        "\n",
        "    # Move to the next line after each row is printed\n",
        "    print()\n",
        "\n",
        "    # Reduce the space by 2 for the next row\n",
        "    space -= 2\n"
      ],
      "metadata": {
        "colab": {
          "base_uri": "https://localhost:8080/"
        },
        "id": "nHQehH4gxIPC",
        "outputId": "778b031b-a430-4c6b-ef19-23945e1da6b9"
      },
      "execution_count": 20,
      "outputs": [
        {
          "output_type": "stream",
          "name": "stdout",
          "text": [
            "1      1\n",
            "12    21\n",
            "123  321\n",
            "12344321\n"
          ]
        }
      ]
    },
    {
      "cell_type": "code",
      "source": [
        "num=1\n",
        "for i in range(1,5):\n",
        "  for j in range(i):\n",
        "    print(num,end=\" \")\n",
        "    num=num+1\n",
        "  print()"
      ],
      "metadata": {
        "colab": {
          "base_uri": "https://localhost:8080/"
        },
        "id": "VBIE2kB8hJKL",
        "outputId": "697ee007-290c-40c4-8dce-7c5468546a83"
      },
      "execution_count": 27,
      "outputs": [
        {
          "output_type": "stream",
          "name": "stdout",
          "text": [
            "1 \n",
            "2 3 \n",
            "4 5 6 \n",
            "7 8 9 10 \n"
          ]
        }
      ]
    },
    {
      "cell_type": "code",
      "source": [
        "# Number of rows\n",
        "n = 4\n",
        "\n",
        "for i in range(1, n + 1):\n",
        "    # Print the characters from 'A' to the i-th character\n",
        "    for j in range(i):\n",
        "        print(chr(65 + j), end=\" \")\n",
        "    # Move to the next line after each row is printed\n",
        "    print()\n"
      ],
      "metadata": {
        "colab": {
          "base_uri": "https://localhost:8080/"
        },
        "id": "ulMAnkfWjzDj",
        "outputId": "154cacd2-5c51-466e-d381-cfb784b2ef5f"
      },
      "execution_count": 29,
      "outputs": [
        {
          "output_type": "stream",
          "name": "stdout",
          "text": [
            "A \n",
            "A B \n",
            "A B C \n",
            "A B C D \n"
          ]
        }
      ]
    },
    {
      "cell_type": "code",
      "source": [
        "# Number of rows\n",
        "n = 4\n",
        "\n",
        "for i in range(n + 1,0,-1):\n",
        "    # Print the characters from 'A' to the i-th character\n",
        "    for j in range(i):\n",
        "        print(chr(65 + j), end=\" \")\n",
        "    # Move to the next line after each row is printed\n",
        "    print()\n"
      ],
      "metadata": {
        "colab": {
          "base_uri": "https://localhost:8080/"
        },
        "id": "EojN0e5OkkSe",
        "outputId": "029e39e9-bcec-43b9-fefa-789e8947f349"
      },
      "execution_count": 30,
      "outputs": [
        {
          "output_type": "stream",
          "name": "stdout",
          "text": [
            "A B C D E \n",
            "A B C D \n",
            "A B C \n",
            "A B \n",
            "A \n"
          ]
        }
      ]
    },
    {
      "cell_type": "code",
      "source": [
        "\n",
        "n = 4\n",
        "\n",
        "for i in range(0, n + 1):\n",
        "    # Print the characters from 'A' to the i-th character\n",
        "    for j in range(i):\n",
        "        print(chr(64 + i), end=\" \")\n",
        "    # Move to the next line after each row is printed\n",
        "    print()\n"
      ],
      "metadata": {
        "colab": {
          "base_uri": "https://localhost:8080/"
        },
        "id": "3Ti7iFGunBA3",
        "outputId": "5a1eeec6-de9d-46e3-ea48-b885f8c51b1b"
      },
      "execution_count": 33,
      "outputs": [
        {
          "output_type": "stream",
          "name": "stdout",
          "text": [
            "\n",
            "A \n",
            "B B \n",
            "C C C \n",
            "D D D D \n"
          ]
        }
      ]
    },
    {
      "cell_type": "code",
      "source": [],
      "metadata": {
        "id": "9ybYNqVpoNiX"
      },
      "execution_count": null,
      "outputs": []
    }
  ]
}